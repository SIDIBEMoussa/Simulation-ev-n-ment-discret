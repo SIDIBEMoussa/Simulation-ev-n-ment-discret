{
  "nbformat": 4,
  "nbformat_minor": 0,
  "metadata": {
    "colab": {
      "name": "Générateur2.ipynb",
      "provenance": [],
      "collapsed_sections": [],
      "authorship_tag": "ABX9TyPWNA2vG/U7QPqmLWh4WCYR",
      "include_colab_link": true
    },
    "kernelspec": {
      "name": "python3",
      "display_name": "Python 3"
    },
    "language_info": {
      "name": "python"
    }
  },
  "cells": [
    {
      "cell_type": "markdown",
      "metadata": {
        "id": "view-in-github",
        "colab_type": "text"
      },
      "source": [
        "<a href=\"https://colab.research.google.com/github/SIDIBEMoussa/Simulation-ev-n-ment-discret/blob/main/G%C3%A9n%C3%A9rateur2.ipynb\" target=\"_parent\"><img src=\"https://colab.research.google.com/assets/colab-badge.svg\" alt=\"Open In Colab\"/></a>"
      ]
    },
    {
      "cell_type": "code",
      "metadata": {
        "id": "WkOUtl23WRpP"
      },
      "source": [
        "import numpy as np\n",
        "from numpy.random import rand"
      ],
      "execution_count": 204,
      "outputs": []
    },
    {
      "cell_type": "markdown",
      "metadata": {
        "id": "5HWxaU7AXVSv"
      },
      "source": [
        "Objectif: générer des valeurs aléatoires suivant la loi uniforme sur $\\left[a,b\\right]$"
      ]
    },
    {
      "cell_type": "markdown",
      "metadata": {
        "id": "GviMKGMVX7-K"
      },
      "source": [
        "On génère des valeurs aléatoires suivant $U\\left[0,1\\right]$"
      ]
    },
    {
      "cell_type": "code",
      "metadata": {
        "id": "n3LVy9yJX48w"
      },
      "source": [
        "U01=rand(10)"
      ],
      "execution_count": 205,
      "outputs": []
    },
    {
      "cell_type": "code",
      "metadata": {
        "id": "pczQ86cgZUwB"
      },
      "source": [
        "def rand_a_b(a,b,nombre_points):\n",
        "  U_0_1=rand(nombre_points)\n",
        "  U_a_b=(b-a)*U_0_1+a\n",
        "  return U_a_b"
      ],
      "execution_count": 206,
      "outputs": []
    },
    {
      "cell_type": "code",
      "metadata": {
        "colab": {
          "base_uri": "https://localhost:8080/"
        },
        "id": "diglDy5YaKsa",
        "outputId": "1368d942-bc3c-4e96-ee32-afda935c8bc1"
      },
      "source": [
        "rand_a_b(5,6,10)"
      ],
      "execution_count": 207,
      "outputs": [
        {
          "output_type": "execute_result",
          "data": {
            "text/plain": [
              "array([5.31342418, 5.69232262, 5.87638915, 5.89460666, 5.08504421,\n",
              "       5.03905478, 5.16983042, 5.8781425 , 5.09834683, 5.42110763])"
            ]
          },
          "metadata": {
            "tags": []
          },
          "execution_count": 207
        }
      ]
    },
    {
      "cell_type": "code",
      "metadata": {
        "id": "AgOFc61baSbS"
      },
      "source": [
        "X_i=np.array([-1,2,3,5,6])\n",
        "P_xi=np.array([0.15,0.20,0.10,0.30,0.25])\n",
        "F_xi=np.cumsum(P_xi)\n",
        "u=rand(5)"
      ],
      "execution_count": 208,
      "outputs": []
    },
    {
      "cell_type": "code",
      "metadata": {
        "colab": {
          "base_uri": "https://localhost:8080/"
        },
        "id": "H-j34NlYNpEu",
        "outputId": "ef44fb0b-6280-4b08-c3da-88c90df479b2"
      },
      "source": [
        "F_xi,u,X_i"
      ],
      "execution_count": 209,
      "outputs": [
        {
          "output_type": "execute_result",
          "data": {
            "text/plain": [
              "(array([0.15, 0.35, 0.45, 0.75, 1.  ]),\n",
              " array([0.95788953, 0.53316528, 0.69187711, 0.31551563, 0.68650093]),\n",
              " array([-1,  2,  3,  5,  6]))"
            ]
          },
          "metadata": {
            "tags": []
          },
          "execution_count": 209
        }
      ]
    },
    {
      "cell_type": "code",
      "metadata": {
        "colab": {
          "base_uri": "https://localhost:8080/"
        },
        "id": "xu3jtB-pLDiT",
        "outputId": "81fa5c3c-9014-4ec2-d441-a12002802cab"
      },
      "source": [
        "#Exemple 2\n",
        "#u=float(input(\"Entrez la valeur de seuil distribuer sur [0,1]:\"))\n",
        "for index in range(len(X_i)):\n",
        "  if F_xi[index]>u[index]:\n",
        "    print(X_i[index])\n",
        "    "
      ],
      "execution_count": 210,
      "outputs": [
        {
          "output_type": "stream",
          "text": [
            "5\n",
            "6\n"
          ],
          "name": "stdout"
        }
      ]
    },
    {
      "cell_type": "code",
      "metadata": {
        "id": "phJI3fKEMEDC"
      },
      "source": [
        "def inverse_tranformation(X_i,P_xi):\n",
        "    np.random.seed(1)\n",
        "    F_xi=np.cumsum(P_xi)\n",
        "    Seuil_alea={}\n",
        "    Unifor=rand(len(X_i))\n",
        "    for seuil in Unifor:\n",
        "      np.random.seed(1)\n",
        "      for index1 in range(len(X_i)):\n",
        "        if F_xi[index1]>=seuil:\n",
        "          Seuil_alea[seuil]=X_i[index1]\n",
        "          #print(str(index)+\":\"+str(u[index]))\n",
        "          break\n",
        "    return Seuil_alea\n",
        "\n"
      ],
      "execution_count": 211,
      "outputs": []
    },
    {
      "cell_type": "code",
      "metadata": {
        "colab": {
          "base_uri": "https://localhost:8080/"
        },
        "id": "xED7MVCzPzq7",
        "outputId": "861ec1bf-b742-4e63-e73c-3acf958a9132"
      },
      "source": [
        "inverse_tranformation(X_i,P_xi)"
      ],
      "execution_count": 212,
      "outputs": [
        {
          "output_type": "execute_result",
          "data": {
            "text/plain": [
              "{0.00011437481734488664: -1,\n",
              " 0.14675589081711304: -1,\n",
              " 0.30233257263183977: 2,\n",
              " 0.417022004702574: 3,\n",
              " 0.7203244934421581: 5}"
            ]
          },
          "metadata": {
            "tags": []
          },
          "execution_count": 212
        }
      ]
    },
    {
      "cell_type": "code",
      "metadata": {
        "id": "gc2sJxG5P49m"
      },
      "source": [
        "f=lambda x:60*x**3*(1-x)**2"
      ],
      "execution_count": 213,
      "outputs": []
    },
    {
      "cell_type": "code",
      "metadata": {
        "id": "gcKoRMrVeTPZ"
      },
      "source": [
        "def acceptation_rejet(f,a,b,nbre_valeur_a_generer):\n",
        "  X=[]\n",
        "  y=rand(nbre_valeur_a_generer)\n",
        "  x=np.linspace(a,b,nbre_valeur_a_generer*10000)\n",
        "  h=max(f(x))\n",
        "  x_max=x[list(f(x)).index(max(f(x)))]\n",
        "  print(\"Le point où f atteint son max:\",x_max)\n",
        "  u=rand(nbre_valeur_a_generer)\n",
        "\n",
        "  for i in range(nbre_valeur_a_generer):\n",
        "    if u[i]<f(y)[i]/h:\n",
        "      X.append(y)\n",
        "    else:\n",
        "      c=0\n",
        "      while (c<int(h) and u[i]<f(y)[i]/h):\n",
        "        acceptation_rejet(f,a,b,nbre_valeur_a_generer)\n",
        "        c=c+1\n",
        "  return X[0]\n",
        "\n"
      ],
      "execution_count": 214,
      "outputs": []
    },
    {
      "cell_type": "code",
      "metadata": {
        "id": "VHPsiZPukJM-"
      },
      "source": [
        "f=lambda x:60*x**3*(1-x)**2\n",
        "f=lambda x:1/3"
      ],
      "execution_count": 215,
      "outputs": []
    },
    {
      "cell_type": "code",
      "metadata": {
        "id": "HZjZh88Km6XB"
      },
      "source": [
        "def T(x):\n",
        "  f=[]\n",
        "  for x_i in x:\n",
        "    if x_i>=0 and x_i<=1:\n",
        "      t=lambda y:y\n",
        "      f.append(t(x_i))\n",
        "    elif x_i>1 and x_i<=2:\n",
        "      t=lambda y:2-y\n",
        "      f.append(t(x_i))\n",
        "  return f\n"
      ],
      "execution_count": 216,
      "outputs": []
    },
    {
      "cell_type": "code",
      "metadata": {
        "colab": {
          "base_uri": "https://localhost:8080/",
          "height": 282
        },
        "id": "MbNr66-HatzE",
        "outputId": "82377d8e-0cd8-4aba-8462-718c38d64418"
      },
      "source": [
        "import matplotlib.pyplot as plt\n",
        "\n",
        "x=np.linspace(0,2,10000)\n",
        "plt.plot(x,T(x))"
      ],
      "execution_count": 217,
      "outputs": [
        {
          "output_type": "execute_result",
          "data": {
            "text/plain": [
              "[<matplotlib.lines.Line2D at 0x7f87e4406050>]"
            ]
          },
          "metadata": {
            "tags": []
          },
          "execution_count": 217
        },
        {
          "output_type": "display_data",
          "data": {
            "image/png": "[encoded data removed]",
            "text/plain": [
              "<Figure size 432x288 with 1 Axes>"
            ]
          },
          "metadata": {
            "tags": [],
            "needs_background": "light"
          }
        }
      ]
    },
    {
      "cell_type": "code",
      "metadata": {
        "colab": {
          "base_uri": "https://localhost:8080/"
        },
        "id": "ypP2316skUxy",
        "outputId": "49bec369-89cb-4359-eae2-46b64a215644"
      },
      "source": [
        "acceptation_rejet(T,0,2,3)"
      ],
      "execution_count": 218,
      "outputs": [
        {
          "output_type": "stream",
          "text": [
            "Le point où f atteint son max: 0.9999666655555185\n"
          ],
          "name": "stdout"
        },
        {
          "output_type": "execute_result",
          "data": {
            "text/plain": [
              "array([4.17022005e-01, 7.20324493e-01, 1.14374817e-04])"
            ]
          },
          "metadata": {
            "tags": []
          },
          "execution_count": 218
        }
      ]
    },
    {
      "cell_type": "code",
      "metadata": {
        "id": "DQrk7Tiws_RY"
      },
      "source": [
        ""
      ],
      "execution_count": 229,
      "outputs": []
    },
    {
      "cell_type": "code",
      "metadata": {
        "id": "DN7Swk-YwHmZ"
      },
      "source": [
        "def j(x):\n",
        "  f=[]\n",
        "  for x_i in x:\n",
        "    if x_i>=0 and x_i<=2:\n",
        "      t=lambda y:y/4\n",
        "      f.append(t(x_i))\n",
        "    elif x_i>2 and x_i<=4:\n",
        "      t=lambda y:1-y/4\n",
        "      f.append(t(x_i))\n",
        "    else:\n",
        "      f.append(0)\n",
        "  return f\n"
      ],
      "execution_count": 230,
      "outputs": []
    },
    {
      "cell_type": "code",
      "metadata": {
        "colab": {
          "base_uri": "https://localhost:8080/"
        },
        "id": "z11PTqwm0r1D",
        "outputId": "6b362620-2076-49ef-b5c0-c8e32ee7427f"
      },
      "source": [
        "acceptation_rejet(j,0,4,15)"
      ],
      "execution_count": 233,
      "outputs": [
        {
          "output_type": "stream",
          "text": [
            "Le point où f atteint son max: 1.9999866665777772\n"
          ],
          "name": "stdout"
        },
        {
          "output_type": "execute_result",
          "data": {
            "text/plain": [
              "array([0.61995572, 0.8289809 , 0.15679139, 0.0185762 , 0.07002214,\n",
              "       0.48634511, 0.60632946, 0.56885144, 0.31736241, 0.98861615,\n",
              "       0.57974522, 0.38014117, 0.55094822, 0.74533443, 0.66923289])"
            ]
          },
          "metadata": {
            "tags": []
          },
          "execution_count": 233
        }
      ]
    },
    {
      "cell_type": "code",
      "metadata": {
        "id": "8DJoiGN60z3C"
      },
      "source": [
        ""
      ],
      "execution_count": null,
      "outputs": []
    }
  ]
}