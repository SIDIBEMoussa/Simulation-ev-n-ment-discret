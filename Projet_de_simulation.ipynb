{
  "nbformat": 4,
  "nbformat_minor": 0,
  "metadata": {
    "colab": {
      "name": "Projet de simulation.ipynb",
      "provenance": [],
      "authorship_tag": "ABX9TyOYZhUtQgHuTENOoH6wYaad",
      "include_colab_link": true
    },
    "kernelspec": {
      "name": "python3",
      "display_name": "Python 3"
    },
    "language_info": {
      "name": "python"
    }
  },
  "cells": [
    {
      "cell_type": "markdown",
      "metadata": {
        "id": "view-in-github",
        "colab_type": "text"
      },
      "source": [
        "<a href=\"https://colab.research.google.com/github/SIDIBEMoussa/Simulation-ev-n-ment-discret/blob/main/Projet_de_simulation.ipynb\" target=\"_parent\"><img src=\"https://colab.research.google.com/assets/colab-badge.svg\" alt=\"Open In Colab\"/></a>"
      ]
    },
    {
      "cell_type": "code",
      "metadata": {
        "colab": {
          "base_uri": "https://localhost:8080/"
        },
        "id": "gVaruMWK12D7",
        "outputId": "d784b56a-515d-4f6e-c1ba-d78a53070167"
      },
      "source": [
        "pip install simple_colors"
      ],
      "execution_count": 1,
      "outputs": [
        {
          "output_type": "stream",
          "text": [
            "Collecting simple_colors\n",
            "  Downloading simple_colors-0.1.5-py3-none-any.whl (2.8 kB)\n",
            "Installing collected packages: simple-colors\n",
            "Successfully installed simple-colors-0.1.5\n"
          ],
          "name": "stdout"
        }
      ]
    },
    {
      "cell_type": "code",
      "metadata": {
        "id": "lRdOBGDlQdI2"
      },
      "source": [
        "import matplotlib.pyplot as plt\n",
        "from numpy.random import *\n",
        "from simple_colors import *\n",
        "import seaborn as sns\n",
        "import pandas as pd\n",
        "import numpy as np"
      ],
      "execution_count": 2,
      "outputs": []
    },
    {
      "cell_type": "code",
      "metadata": {
        "id": "-zJE3tBBArrB"
      },
      "source": [
        "def Var_expo(param):\n",
        "    U=uniform()\n",
        "    X=-(1/param)*np.log(U)\n",
        "    return X"
      ],
      "execution_count": 3,
      "outputs": []
    },
    {
      "cell_type": "code",
      "metadata": {
        "colab": {
          "base_uri": "https://localhost:8080/"
        },
        "id": "a7_tsfb6BSYh",
        "outputId": "b440b536-be6c-44fb-8485-fb14870ffad6"
      },
      "source": [
        "Var_expo(2)"
      ],
      "execution_count": 4,
      "outputs": [
        {
          "output_type": "execute_result",
          "data": {
            "text/plain": [
              "0.31965407191496714"
            ]
          },
          "metadata": {
            "tags": []
          },
          "execution_count": 4
        }
      ]
    },
    {
      "cell_type": "markdown",
      "metadata": {
        "id": "3hBdXy2bQtMe"
      },
      "source": [
        "Les variables pour les clients de type A: \\\\\n",
        "$\\lambda_{1}:$ est le taux d'arrivé du client de type A \\\\\n",
        "$T1_i:$ est le temps d'arrivé du client i de type A \\\\\n",
        "$w1_i:$ est le temps d'attente du client i de type A \\\\\n",
        "$NA:$ le nombre de client de type A dans le système \\\\\n",
        "$t1_{i}:$ le temps inter-arrivé \\\\\n",
        "$s1_i$ est le temps de service du client i de type A \\\\\n",
        "$QA$ le nombre de clients de type A en attente \\\\\n"
      ]
    },
    {
      "cell_type": "code",
      "metadata": {
        "colab": {
          "base_uri": "https://localhost:8080/"
        },
        "id": "b-HTWADeEwc5",
        "outputId": "fdf502e1-8f55-4645-be53-7a575dcadd96"
      },
      "source": [
        "for i in range(10):\n",
        "  print(1/np.mean(exponential(5,10)))"
      ],
      "execution_count": 34,
      "outputs": [
        {
          "output_type": "stream",
          "text": [
            "0.18877463965067004\n",
            "0.15619615950653695\n",
            "0.22392753790176187\n",
            "0.19288393139753898\n",
            "0.1720378677067241\n",
            "0.30819803759436043\n",
            "0.34940380106862234\n",
            "0.16962807614845257\n",
            "0.2777140612223031\n",
            "0.10498927715640041\n"
          ],
          "name": "stdout"
        }
      ]
    },
    {
      "cell_type": "code",
      "metadata": {
        "colab": {
          "base_uri": "https://localhost:8080/"
        },
        "id": "IvIWU8DIsOll",
        "outputId": "9b66abed-57ac-413e-858c-f9cd83482e53"
      },
      "source": [
        "help(binomial)"
      ],
      "execution_count": 36,
      "outputs": [
        {
          "output_type": "stream",
          "text": [
            "Help on built-in function binomial:\n",
            "\n",
            "binomial(...) method of numpy.random.mtrand.RandomState instance\n",
            "    binomial(n, p, size=None)\n",
            "    \n",
            "    Draw samples from a binomial distribution.\n",
            "    \n",
            "    Samples are drawn from a binomial distribution with specified\n",
            "    parameters, n trials and p probability of success where\n",
            "    n an integer >= 0 and p is in the interval [0,1]. (n may be\n",
            "    input as a float, but it is truncated to an integer in use)\n",
            "    \n",
            "    .. note::\n",
            "        New code should use the ``binomial`` method of a ``default_rng()``\n",
            "        instance instead; please see the :ref:`random-quick-start`.\n",
            "    \n",
            "    Parameters\n",
            "    ----------\n",
            "    n : int or array_like of ints\n",
            "        Parameter of the distribution, >= 0. Floats are also accepted,\n",
            "        but they will be truncated to integers.\n",
            "    p : float or array_like of floats\n",
            "        Parameter of the distribution, >= 0 and <=1.\n",
            "    size : int or tuple of ints, optional\n",
            "        Output shape.  If the given shape is, e.g., ``(m, n, k)``, then\n",
            "        ``m * n * k`` samples are drawn.  If size is ``None`` (default),\n",
            "        a single value is returned if ``n`` and ``p`` are both scalars.\n",
            "        Otherwise, ``np.broadcast(n, p).size`` samples are drawn.\n",
            "    \n",
            "    Returns\n",
            "    -------\n",
            "    out : ndarray or scalar\n",
            "        Drawn samples from the parameterized binomial distribution, where\n",
            "        each sample is equal to the number of successes over the n trials.\n",
            "    \n",
            "    See Also\n",
            "    --------\n",
            "    scipy.stats.binom : probability density function, distribution or\n",
            "        cumulative density function, etc.\n",
            "    Generator.binomial: which should be used for new code.\n",
            "    \n",
            "    Notes\n",
            "    -----\n",
            "    The probability density for the binomial distribution is\n",
            "    \n",
            "    .. math:: P(N) = \\binom{n}{N}p^N(1-p)^{n-N},\n",
            "    \n",
            "    where :math:`n` is the number of trials, :math:`p` is the probability\n",
            "    of success, and :math:`N` is the number of successes.\n",
            "    \n",
            "    When estimating the standard error of a proportion in a population by\n",
            "    using a random sample, the normal distribution works well unless the\n",
            "    product p*n <=5, where p = population proportion estimate, and n =\n",
            "    number of samples, in which case the binomial distribution is used\n",
            "    instead. For example, a sample of 15 people shows 4 who are left\n",
            "    handed, and 11 who are right handed. Then p = 4/15 = 27%. 0.27*15 = 4,\n",
            "    so the binomial distribution should be used in this case.\n",
            "    \n",
            "    References\n",
            "    ----------\n",
            "    .. [1] Dalgaard, Peter, \"Introductory Statistics with R\",\n",
            "           Springer-Verlag, 2002.\n",
            "    .. [2] Glantz, Stanton A. \"Primer of Biostatistics.\", McGraw-Hill,\n",
            "           Fifth Edition, 2002.\n",
            "    .. [3] Lentner, Marvin, \"Elementary Applied Statistics\", Bogden\n",
            "           and Quigley, 1972.\n",
            "    .. [4] Weisstein, Eric W. \"Binomial Distribution.\" From MathWorld--A\n",
            "           Wolfram Web Resource.\n",
            "           http://mathworld.wolfram.com/BinomialDistribution.html\n",
            "    .. [5] Wikipedia, \"Binomial distribution\",\n",
            "           https://en.wikipedia.org/wiki/Binomial_distribution\n",
            "    \n",
            "    Examples\n",
            "    --------\n",
            "    Draw samples from the distribution:\n",
            "    \n",
            "    >>> n, p = 10, .5  # number of trials, probability of each trial\n",
            "    >>> s = np.random.binomial(n, p, 1000)\n",
            "    # result of flipping a coin 10 times, tested 1000 times.\n",
            "    \n",
            "    A real world example. A company drills 9 wild-cat oil exploration\n",
            "    wells, each with an estimated probability of success of 0.1. All nine\n",
            "    wells fail. What is the probability of that happening?\n",
            "    \n",
            "    Let's do 20,000 trials of the model, and count the number that\n",
            "    generate zero positive results.\n",
            "    \n",
            "    >>> sum(np.random.binomial(9, 0.1, 20000) == 0)/20000.\n",
            "    # answer = 0.38885, or 38%.\n",
            "\n"
          ],
          "name": "stdout"
        }
      ]
    },
    {
      "cell_type": "code",
      "metadata": {
        "id": "AY71GqkFQs3I"
      },
      "source": [
        "\n",
        "\n",
        "def mini_projet(lamda1,lamda2,mu1,mu2,p1,p2,T):\n",
        "    df=pd.DataFrame()\n",
        "    N=0\n",
        "\n",
        "    #Serveur 1\n",
        "    NA=0\n",
        "    T1i=0\n",
        "    w1i=0\n",
        "\n",
        "    #Serveur 2\n",
        "    NB=0\n",
        "    T2i=0\n",
        "    w2i=0\n",
        "    df.append({\"Nbre_client_A\":NA,\"Nbre_client_B\":NB,\"T_arrivé_Ai\":T1i,\"Temps_attente_A_i\":w1i})\n",
        "\n",
        "    while T1i<T:\n",
        "        t1i=Var_expo(lamda1)\n",
        "        t2i=Var_expo(lamda2)\n",
        "\n",
        "        T1i+=t1i\n",
        "        T2i+=t2i\n",
        "\n",
        "        \n",
        "\n",
        "\n",
        "\n",
        "        df.append({\"Nbre_client_A\":NA,\"Nbre_client_B\":NB,\"T_arrivé_Ai\":T1i,\"Temps_attente_A_i\":w1i})"
      ],
      "execution_count": null,
      "outputs": []
    }
  ]
}