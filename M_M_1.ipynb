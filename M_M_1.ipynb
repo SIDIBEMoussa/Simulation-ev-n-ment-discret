{
  "nbformat": 4,
  "nbformat_minor": 0,
  "metadata": {
    "colab": {
      "name": "M/M/1.ipynb",
      "provenance": [],
      "collapsed_sections": [],
      "authorship_tag": "ABX9TyO21iQl4BYT6rukZjDi59Da",
      "include_colab_link": true
    },
    "kernelspec": {
      "name": "python3",
      "display_name": "Python 3"
    },
    "language_info": {
      "name": "python"
    }
  },
  "cells": [
    {
      "cell_type": "markdown",
      "metadata": {
        "id": "view-in-github",
        "colab_type": "text"
      },
      "source": [
        "<a href=\"https://colab.research.google.com/github/SIDIBEMoussa/Simulation-ev-n-ment-discret/blob/main/M_M_1.ipynb\" target=\"_parent\"><img src=\"https://colab.research.google.com/assets/colab-badge.svg\" alt=\"Open In Colab\"/></a>"
      ]
    },
    {
      "cell_type": "code",
      "metadata": {
        "id": "-IDrVRTBJ1wh"
      },
      "source": [
        "import numpy as np\n",
        "import matplotlib.pyplot as pl\n",
        "import pandas as pd"
      ],
      "execution_count": null,
      "outputs": []
    },
    {
      "cell_type": "code",
      "metadata": {
        "id": "3TrxoxmHKyi3"
      },
      "source": [
        "Clients=np.array(range(1,1001))\n",
        "Uniforme1=np.array(np.random.rand(1000))\n",
        "Uniforme2=np.array(np.random.rand(1000))"
      ],
      "execution_count": null,
      "outputs": []
    },
    {
      "cell_type": "code",
      "metadata": {
        "id": "cd4n0ocfM9jO"
      },
      "source": [
        "def condition(U):\n",
        "  T=[]\n",
        "  for e in U:\n",
        "    if e<0.1:\n",
        "      T.append(1)\n",
        "    elif e<0.2:\n",
        "      T.append(2)\n",
        "    elif e<0.3:\n",
        "      T.append(3)\n",
        "    elif e<0.4:\n",
        "      T.append(4)\n",
        "    elif e<0.5:\n",
        "      T.append(5)\n",
        "    elif e<0.6:\n",
        "      T.append(6)\n",
        "    elif e<0.7:\n",
        "      T.append(7)\n",
        "    elif e<0.8:\n",
        "      T.append(8)\n",
        "    elif e<0.9:\n",
        "      T.append(9)\n",
        "    else:\n",
        "      T.append(10)\n",
        "  return np.array(T)\n",
        "\n",
        "def condition2(U):\n",
        "  T=[]\n",
        "  for e in U:\n",
        "    if e<0.25:\n",
        "      T.append(2)\n",
        "    elif e<0.5:\n",
        "      T.append(3)\n",
        "    elif e<0.75:\n",
        "      T.append(4)\n",
        "    else:\n",
        "      T.append(5)\n",
        "  return np.array(T)"
      ],
      "execution_count": null,
      "outputs": []
    },
    {
      "cell_type": "code",
      "metadata": {
        "id": "xtClR-YaNDoy"
      },
      "source": [
        "T_inter_arr=condition(Uniforme1)"
      ],
      "execution_count": null,
      "outputs": []
    },
    {
      "cell_type": "code",
      "metadata": {
        "id": "PNLuavd4UeZL"
      },
      "source": [
        "T_arr=[T_inter_arr[0]]\n",
        "for i in range(1,len(Clients)):\n",
        "  T_arr.append(T_inter_arr[i]+T_arr[i-1])\n",
        "T_arr=np.array(T_arr)"
      ],
      "execution_count": null,
      "outputs": []
    },
    {
      "cell_type": "code",
      "metadata": {
        "id": "YZFqDTolXfJU"
      },
      "source": [
        "T_service=condition2(Uniforme2)"
      ],
      "execution_count": null,
      "outputs": []
    },
    {
      "cell_type": "code",
      "metadata": {
        "id": "YNU59ZruUlaG"
      },
      "source": [
        "debut_ser=[T_arr[0]]\n",
        "fin_ser=[debut_ser[0]+T_service[0]]\n",
        "\n",
        "for i in range(1, len(Clients)):\n",
        "    debut_ser.append(max(T_arr[i],fin_ser[i-1]))\n",
        "    fin_ser.append(T_service[i]+debut_ser[i])\n",
        "\n",
        "debut_ser=np.array(debut_ser)\n",
        "fin_ser=np.array(fin_ser)"
      ],
      "execution_count": null,
      "outputs": []
    },
    {
      "cell_type": "code",
      "metadata": {
        "id": "HmL-5TXtWOqM"
      },
      "source": [
        "T_attente=debut_ser-T_arr"
      ],
      "execution_count": null,
      "outputs": []
    },
    {
      "cell_type": "code",
      "metadata": {
        "id": "E5pkUAYocp1s"
      },
      "source": [
        "T_in_syst=fin_ser-T_arr"
      ],
      "execution_count": null,
      "outputs": []
    },
    {
      "cell_type": "code",
      "metadata": {
        "id": "8CjPVUV6d-my"
      },
      "source": [
        "server_free_time=[np.NaN]\n",
        "for i in range(1,len(Clients)):\n",
        "  server_free_time.append(max(0,T_arr[i]-fin_ser[i-1]))\n",
        "server_free_time=np.array(server_free_time)"
      ],
      "execution_count": null,
      "outputs": []
    },
    {
      "cell_type": "code",
      "metadata": {
        "id": "fIuyyBvKeTOw"
      },
      "source": [
        "M_M_1=pd.DataFrame({\"Client\":Clients,\"U[0,1]\":Uniforme1,\"T_inter_arr\":T_inter_arr,\"T_arrivé\":T_arr,\"debut_ser\":debut_ser,\"U[0,1]\":Uniforme2,\"T_service\":T_service,\"fin_service\":fin_ser,\"T_attente\":T_attente,\"T_ds_systeme\":T_in_syst,\"T_Server_free\":server_free_time})"
      ],
      "execution_count": null,
      "outputs": []
    },
    {
      "cell_type": "code",
      "metadata": {
        "colab": {
          "base_uri": "https://localhost:8080/",
          "height": 419
        },
        "id": "fBwASuZXjpYB",
        "outputId": "4aed1350-af6e-459c-a53b-d02715b93572"
      },
      "source": [
        "M_M_1"
      ],
      "execution_count": null,
      "outputs": [
        {
          "output_type": "execute_result",
          "data": {
            "text/html": [
              "<div>\n",
              "<style scoped>\n",
              "    .dataframe tbody tr th:only-of-type {\n",
              "        vertical-align: middle;\n",
              "    }\n",
              "\n",
              "    .dataframe tbody tr th {\n",
              "        vertical-align: top;\n",
              "    }\n",
              "\n",
              "    .dataframe thead th {\n",
              "        text-align: right;\n",
              "    }\n",
              "</style>\n",
              "<table border=\"1\" class=\"dataframe\">\n",
              "  <thead>\n",
              "    <tr style=\"text-align: right;\">\n",
              "      <th></th>\n",
              "      <th>Client</th>\n",
              "      <th>U[0,1]</th>\n",
              "      <th>T_inter_arr</th>\n",
              "      <th>T_arrivé</th>\n",
              "      <th>debut_ser</th>\n",
              "      <th>T_service</th>\n",
              "      <th>fin_service</th>\n",
              "      <th>T_attente</th>\n",
              "      <th>T_ds_systeme</th>\n",
              "      <th>T_Server_free</th>\n",
              "    </tr>\n",
              "  </thead>\n",
              "  <tbody>\n",
              "    <tr>\n",
              "      <th>0</th>\n",
              "      <td>1</td>\n",
              "      <td>0.287240</td>\n",
              "      <td>10</td>\n",
              "      <td>10</td>\n",
              "      <td>10</td>\n",
              "      <td>3</td>\n",
              "      <td>13</td>\n",
              "      <td>0</td>\n",
              "      <td>3</td>\n",
              "      <td>NaN</td>\n",
              "    </tr>\n",
              "    <tr>\n",
              "      <th>1</th>\n",
              "      <td>2</td>\n",
              "      <td>0.136972</td>\n",
              "      <td>6</td>\n",
              "      <td>16</td>\n",
              "      <td>16</td>\n",
              "      <td>2</td>\n",
              "      <td>18</td>\n",
              "      <td>0</td>\n",
              "      <td>2</td>\n",
              "      <td>3.0</td>\n",
              "    </tr>\n",
              "    <tr>\n",
              "      <th>2</th>\n",
              "      <td>3</td>\n",
              "      <td>0.297357</td>\n",
              "      <td>9</td>\n",
              "      <td>25</td>\n",
              "      <td>25</td>\n",
              "      <td>3</td>\n",
              "      <td>28</td>\n",
              "      <td>0</td>\n",
              "      <td>3</td>\n",
              "      <td>7.0</td>\n",
              "    </tr>\n",
              "    <tr>\n",
              "      <th>3</th>\n",
              "      <td>4</td>\n",
              "      <td>0.122499</td>\n",
              "      <td>8</td>\n",
              "      <td>33</td>\n",
              "      <td>33</td>\n",
              "      <td>2</td>\n",
              "      <td>35</td>\n",
              "      <td>0</td>\n",
              "      <td>2</td>\n",
              "      <td>5.0</td>\n",
              "    </tr>\n",
              "    <tr>\n",
              "      <th>4</th>\n",
              "      <td>5</td>\n",
              "      <td>0.255111</td>\n",
              "      <td>7</td>\n",
              "      <td>40</td>\n",
              "      <td>40</td>\n",
              "      <td>3</td>\n",
              "      <td>43</td>\n",
              "      <td>0</td>\n",
              "      <td>3</td>\n",
              "      <td>5.0</td>\n",
              "    </tr>\n",
              "    <tr>\n",
              "      <th>...</th>\n",
              "      <td>...</td>\n",
              "      <td>...</td>\n",
              "      <td>...</td>\n",
              "      <td>...</td>\n",
              "      <td>...</td>\n",
              "      <td>...</td>\n",
              "      <td>...</td>\n",
              "      <td>...</td>\n",
              "      <td>...</td>\n",
              "      <td>...</td>\n",
              "    </tr>\n",
              "    <tr>\n",
              "      <th>995</th>\n",
              "      <td>996</td>\n",
              "      <td>0.512895</td>\n",
              "      <td>4</td>\n",
              "      <td>5340</td>\n",
              "      <td>5340</td>\n",
              "      <td>4</td>\n",
              "      <td>5344</td>\n",
              "      <td>0</td>\n",
              "      <td>4</td>\n",
              "      <td>1.0</td>\n",
              "    </tr>\n",
              "    <tr>\n",
              "      <th>996</th>\n",
              "      <td>997</td>\n",
              "      <td>0.023932</td>\n",
              "      <td>7</td>\n",
              "      <td>5347</td>\n",
              "      <td>5347</td>\n",
              "      <td>2</td>\n",
              "      <td>5349</td>\n",
              "      <td>0</td>\n",
              "      <td>2</td>\n",
              "      <td>3.0</td>\n",
              "    </tr>\n",
              "    <tr>\n",
              "      <th>997</th>\n",
              "      <td>998</td>\n",
              "      <td>0.090963</td>\n",
              "      <td>7</td>\n",
              "      <td>5354</td>\n",
              "      <td>5354</td>\n",
              "      <td>2</td>\n",
              "      <td>5356</td>\n",
              "      <td>0</td>\n",
              "      <td>2</td>\n",
              "      <td>5.0</td>\n",
              "    </tr>\n",
              "    <tr>\n",
              "      <th>998</th>\n",
              "      <td>999</td>\n",
              "      <td>0.141223</td>\n",
              "      <td>8</td>\n",
              "      <td>5362</td>\n",
              "      <td>5362</td>\n",
              "      <td>2</td>\n",
              "      <td>5364</td>\n",
              "      <td>0</td>\n",
              "      <td>2</td>\n",
              "      <td>6.0</td>\n",
              "    </tr>\n",
              "    <tr>\n",
              "      <th>999</th>\n",
              "      <td>1000</td>\n",
              "      <td>0.219300</td>\n",
              "      <td>6</td>\n",
              "      <td>5368</td>\n",
              "      <td>5368</td>\n",
              "      <td>2</td>\n",
              "      <td>5370</td>\n",
              "      <td>0</td>\n",
              "      <td>2</td>\n",
              "      <td>4.0</td>\n",
              "    </tr>\n",
              "  </tbody>\n",
              "</table>\n",
              "<p>1000 rows × 10 columns</p>\n",
              "</div>"
            ],
            "text/plain": [
              "     Client    U[0,1]  T_inter_arr  ...  T_attente  T_ds_systeme  T_Server_free\n",
              "0         1  0.287240           10  ...          0             3            NaN\n",
              "1         2  0.136972            6  ...          0             2            3.0\n",
              "2         3  0.297357            9  ...          0             3            7.0\n",
              "3         4  0.122499            8  ...          0             2            5.0\n",
              "4         5  0.255111            7  ...          0             3            5.0\n",
              "..      ...       ...          ...  ...        ...           ...            ...\n",
              "995     996  0.512895            4  ...          0             4            1.0\n",
              "996     997  0.023932            7  ...          0             2            3.0\n",
              "997     998  0.090963            7  ...          0             2            5.0\n",
              "998     999  0.141223            8  ...          0             2            6.0\n",
              "999    1000  0.219300            6  ...          0             2            4.0\n",
              "\n",
              "[1000 rows x 10 columns]"
            ]
          },
          "metadata": {
            "tags": []
          },
          "execution_count": 76
        }
      ]
    },
    {
      "cell_type": "code",
      "metadata": {
        "colab": {
          "base_uri": "https://localhost:8080/"
        },
        "id": "jkb703L3jtEZ",
        "outputId": "2d3e3229-0478-41fc-9e34-4d365ed63907"
      },
      "source": [
        "mu=1/np.mean(M_M_1.T_service)\n",
        "lamda=1/np.mean(M_M_1.T_inter_arr)\n",
        "ro=lamda/mu\n",
        "mu,lamda,ro"
      ],
      "execution_count": null,
      "outputs": [
        {
          "output_type": "execute_result",
          "data": {
            "text/plain": [
              "(0.2839295854628052, 0.18628912071535023, 0.6561102831594635)"
            ]
          },
          "metadata": {
            "tags": []
          },
          "execution_count": 77
        }
      ]
    },
    {
      "cell_type": "code",
      "metadata": {
        "id": "yOVs7Z6wpY2J"
      },
      "source": [
        "def GenerateMM(Nbr_cl):\n",
        "  np.random.seed(100)\n",
        "  t_inter_arr=int(np.random.uniform(0,1)*10)\n",
        "  t_debut_ser=t_arr=t_inter_arr\n",
        "  t_ser=int(np.random.uniform(0,0.51)*10)\n",
        "  t_fin_ser=t_inter_arr+t_ser\n",
        "  t_sejour=t_fin_ser-t_arr\n",
        "  t_ser_libre=0\n",
        "  t_attente=t_debut_ser-t_arr\n",
        "  #Cumul\n",
        "  \n",
        "  sejour_cumul=t_sejour\n",
        "  arr_cumul=t_arr\n",
        "  servi_cumul=t_ser\n",
        "  inter_arr_cumul=t_inter_arr\n",
        "  sejour_cumul=t_attente+t_ser\n",
        "  t_ser_libre_cumul=0\n",
        "  n=1\n",
        "\n",
        "  #check=[t_inter_arr]\n",
        "  while n<=Nbr_cl:\n",
        "      t_inter_arr=int(np.random.uniform(0,1.01)*10)\n",
        "      t_arr+=t_inter_arr\n",
        "      t_ser_libre=max(0,t_arr-t_fin_ser)\n",
        "      t_debut_ser=max(t_fin_ser,t_arr)\n",
        "      t_attente=t_debut_ser-t_arr\n",
        "      t_ser=int(np.random.uniform(0,0.6)*10)\n",
        "      t_fin_ser=t_debut_ser+t_ser\n",
        "      t_sejour=t_attente+t_ser\n",
        "      \n",
        "      #check.append(t_inter_arr)\n",
        "      \n",
        "      #Cumul\n",
        "      \n",
        "      #att_cumul+=t_attente\n",
        "      arr_cumul+=t_arr\n",
        "      servi_cumul+=t_ser\n",
        "      inter_arr_cumul+=t_inter_arr\n",
        "      sejour_cumul+=t_sejour\n",
        "      t_ser_libre_cumul+=t_ser_libre\n",
        "      n=n+1\n",
        "  df=pd.DataFrame({\"Nbre_client\":[n-1],\"arrivé_cum\":[arr_cumul],\"service_cum\":[servi_cumul],\"inter_arrivé_cum\":[inter_arr_cumul],\"sejour_cum\":[sejour_cumul],\"server_libre_cumul\":[t_ser_libre_cumul]})\n",
        "  return df, check\n"
      ],
      "execution_count": null,
      "outputs": []
    },
    {
      "cell_type": "code",
      "metadata": {
        "colab": {
          "base_uri": "https://localhost:8080/",
          "height": 80
        },
        "id": "q-AZuoVn4ySV",
        "outputId": "27a19f64-7a14-4885-aa6f-b86360ccf9f7"
      },
      "source": [
        "df,check=GenerateMM(1000)\n",
        "df"
      ],
      "execution_count": null,
      "outputs": [
        {
          "output_type": "execute_result",
          "data": {
            "text/html": [
              "<div>\n",
              "<style scoped>\n",
              "    .dataframe tbody tr th:only-of-type {\n",
              "        vertical-align: middle;\n",
              "    }\n",
              "\n",
              "    .dataframe tbody tr th {\n",
              "        vertical-align: top;\n",
              "    }\n",
              "\n",
              "    .dataframe thead th {\n",
              "        text-align: right;\n",
              "    }\n",
              "</style>\n",
              "<table border=\"1\" class=\"dataframe\">\n",
              "  <thead>\n",
              "    <tr style=\"text-align: right;\">\n",
              "      <th></th>\n",
              "      <th>Nbre_client</th>\n",
              "      <th>arrivé_cum</th>\n",
              "      <th>service_cum</th>\n",
              "      <th>inter_arrivé_cum</th>\n",
              "      <th>sejour_cum</th>\n",
              "      <th>server_libre_cumul</th>\n",
              "    </tr>\n",
              "  </thead>\n",
              "  <tbody>\n",
              "    <tr>\n",
              "      <th>0</th>\n",
              "      <td>1000</td>\n",
              "      <td>2238237</td>\n",
              "      <td>2447</td>\n",
              "      <td>4401</td>\n",
              "      <td>3657</td>\n",
              "      <td>1955</td>\n",
              "    </tr>\n",
              "  </tbody>\n",
              "</table>\n",
              "</div>"
            ],
            "text/plain": [
              "   Nbre_client  arrivé_cum  ...  sejour_cum  server_libre_cumul\n",
              "0         1000     2238237  ...        3657                1955\n",
              "\n",
              "[1 rows x 6 columns]"
            ]
          },
          "metadata": {
            "tags": []
          },
          "execution_count": 132
        }
      ]
    },
    {
      "cell_type": "code",
      "metadata": {
        "colab": {
          "base_uri": "https://localhost:8080/"
        },
        "id": "bAysYYC0_SOZ",
        "outputId": "f09bbc54-6262-483e-cea7-b6df32d131e6"
      },
      "source": [
        "lamda1=float(1/(df.inter_arrivé_cum/df.Nbre_client))\n",
        "mu1=float(1/(df.service_cum/df.Nbre_client))\n",
        "ro=lamda1/mu1\n",
        "(mu1,lamda1,ro)"
      ],
      "execution_count": null,
      "outputs": [
        {
          "output_type": "execute_result",
          "data": {
            "text/plain": [
              "(0.40866366979975477, 0.22722108611679165, 0.5560099977277893)"
            ]
          },
          "metadata": {
            "tags": []
          },
          "execution_count": 135
        }
      ]
    },
    {
      "cell_type": "code",
      "metadata": {
        "id": "nYjvEGFgY-HH"
      },
      "source": [
        "nbr_cl_syst=ro/(1-ro)\n",
        "nbr_cl_file=nbr_cl_syst-ro\n",
        "duree_sejour=nbr_cl_syst/lamda1"
      ],
      "execution_count": null,
      "outputs": []
    },
    {
      "cell_type": "code",
      "metadata": {
        "colab": {
          "base_uri": "https://localhost:8080/"
        },
        "id": "FA3JcNWAx3Ui",
        "outputId": "770b50d1-3633-49ea-bcf5-28b11d134aea"
      },
      "source": [
        "print(\"le taux d'occupation du server est:{:.2%}\".format(ro))\n",
        "print(\"le nombre moyen de client dans le système:{:.2} personne(s)\".format(nbr_cl_syst))\n",
        "print(\"le nombre moyen de client dans la file d'attente:{:.2} personne(s)\".format(nbr_cl_file))\n",
        "print(\"La durée moyenne de séjour:{:.2} minutes\".format(duree_sejour))"
      ],
      "execution_count": null,
      "outputs": [
        {
          "output_type": "stream",
          "text": [
            "le taux d'occupation du server est:55.60%\n",
            "le nombre moyen de client dans le système:1.3 personne(s)\n",
            "le nombre moyen de client dans la file d'attente:0.7 personne(s)\n",
            "La durée moyenne de séjour:5.5 minutes\n"
          ],
          "name": "stdout"
        }
      ]
    },
    {
      "cell_type": "code",
      "metadata": {
        "id": "HzwMybY-x5Rf"
      },
      "source": [
        ""
      ],
      "execution_count": null,
      "outputs": []
    }
  ]
}