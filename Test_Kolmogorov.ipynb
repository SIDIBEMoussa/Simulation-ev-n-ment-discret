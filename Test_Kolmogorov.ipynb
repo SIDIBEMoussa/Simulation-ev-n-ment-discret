{
  "nbformat": 4,
  "nbformat_minor": 0,
  "metadata": {
    "colab": {
      "name": "Test_Kolmogorov.ipynb",
      "provenance": [],
      "authorship_tag": "ABX9TyM+nR6QiFRujD9TvaikXIuI",
      "include_colab_link": true
    },
    "kernelspec": {
      "name": "python3",
      "display_name": "Python 3"
    },
    "language_info": {
      "name": "python"
    }
  },
  "cells": [
    {
      "cell_type": "markdown",
      "metadata": {
        "id": "view-in-github",
        "colab_type": "text"
      },
      "source": [
        "<a href=\"https://colab.research.google.com/github/SIDIBEMoussa/Simulation-ev-n-ment-discret/blob/main/Test_Kolmogorov.ipynb\" target=\"_parent\"><img src=\"https://colab.research.google.com/assets/colab-badge.svg\" alt=\"Open In Colab\"/></a>"
      ]
    },
    {
      "cell_type": "code",
      "metadata": {
        "id": "IiwBTFFNYRLG"
      },
      "source": [
        "import pandas as pd"
      ],
      "execution_count": 111,
      "outputs": []
    },
    {
      "cell_type": "code",
      "metadata": {
        "id": "iIbsOGPxYTm8"
      },
      "source": [
        "import numpy as np\n",
        "V=[0.0582795,0.248849,0.326321,0.411576,0.435057,0.485013,0.5035,0.547168,0.611682,0.998397]\n",
        "V=np.array(V)"
      ],
      "execution_count": 112,
      "outputs": []
    },
    {
      "cell_type": "code",
      "metadata": {
        "id": "B6unvQHAYXZ9"
      },
      "source": [
        "i=np.array([i for i in range(1,11)])\n",
        "df=pd.DataFrame({\"i\":range(1,11),\"Ui\":V,\"i/n\":i/len(V),\"i-1/n\":(i-1)/len(V),\"f_xi\":1/len(V)})"
      ],
      "execution_count": 113,
      "outputs": []
    },
    {
      "cell_type": "code",
      "metadata": {
        "colab": {
          "base_uri": "https://localhost:8080/",
          "height": 204
        },
        "id": "b-n6qTcfYakm",
        "outputId": "4b37d81f-f1ce-4779-9556-036c288d35e6"
      },
      "source": [
        "df.head()"
      ],
      "execution_count": 114,
      "outputs": [
        {
          "output_type": "execute_result",
          "data": {
            "text/html": [
              "<div>\n",
              "<style scoped>\n",
              "    .dataframe tbody tr th:only-of-type {\n",
              "        vertical-align: middle;\n",
              "    }\n",
              "\n",
              "    .dataframe tbody tr th {\n",
              "        vertical-align: top;\n",
              "    }\n",
              "\n",
              "    .dataframe thead th {\n",
              "        text-align: right;\n",
              "    }\n",
              "</style>\n",
              "<table border=\"1\" class=\"dataframe\">\n",
              "  <thead>\n",
              "    <tr style=\"text-align: right;\">\n",
              "      <th></th>\n",
              "      <th>i</th>\n",
              "      <th>Ui</th>\n",
              "      <th>i/n</th>\n",
              "      <th>i-1/n</th>\n",
              "      <th>f_xi</th>\n",
              "    </tr>\n",
              "  </thead>\n",
              "  <tbody>\n",
              "    <tr>\n",
              "      <th>0</th>\n",
              "      <td>1</td>\n",
              "      <td>0.058279</td>\n",
              "      <td>0.1</td>\n",
              "      <td>0.0</td>\n",
              "      <td>0.1</td>\n",
              "    </tr>\n",
              "    <tr>\n",
              "      <th>1</th>\n",
              "      <td>2</td>\n",
              "      <td>0.248849</td>\n",
              "      <td>0.2</td>\n",
              "      <td>0.1</td>\n",
              "      <td>0.1</td>\n",
              "    </tr>\n",
              "    <tr>\n",
              "      <th>2</th>\n",
              "      <td>3</td>\n",
              "      <td>0.326321</td>\n",
              "      <td>0.3</td>\n",
              "      <td>0.2</td>\n",
              "      <td>0.1</td>\n",
              "    </tr>\n",
              "    <tr>\n",
              "      <th>3</th>\n",
              "      <td>4</td>\n",
              "      <td>0.411576</td>\n",
              "      <td>0.4</td>\n",
              "      <td>0.3</td>\n",
              "      <td>0.1</td>\n",
              "    </tr>\n",
              "    <tr>\n",
              "      <th>4</th>\n",
              "      <td>5</td>\n",
              "      <td>0.435057</td>\n",
              "      <td>0.5</td>\n",
              "      <td>0.4</td>\n",
              "      <td>0.1</td>\n",
              "    </tr>\n",
              "  </tbody>\n",
              "</table>\n",
              "</div>"
            ],
            "text/plain": [
              "   i        Ui  i/n  i-1/n  f_xi\n",
              "0  1  0.058279  0.1    0.0   0.1\n",
              "1  2  0.248849  0.2    0.1   0.1\n",
              "2  3  0.326321  0.3    0.2   0.1\n",
              "3  4  0.411576  0.4    0.3   0.1\n",
              "4  5  0.435057  0.5    0.4   0.1"
            ]
          },
          "metadata": {},
          "execution_count": 114
        }
      ]
    },
    {
      "cell_type": "code",
      "metadata": {
        "id": "6AesN03LY9f1"
      },
      "source": [
        "df[\"F_xi\"]=df.f_xi.cumsum()"
      ],
      "execution_count": 115,
      "outputs": []
    },
    {
      "cell_type": "code",
      "metadata": {
        "colab": {
          "base_uri": "https://localhost:8080/",
          "height": 204
        },
        "id": "e-Q4p_sBZPKp",
        "outputId": "36b9da21-45a4-46a3-abd1-41edf381fcdb"
      },
      "source": [
        "df.head()"
      ],
      "execution_count": 116,
      "outputs": [
        {
          "output_type": "execute_result",
          "data": {
            "text/html": [
              "<div>\n",
              "<style scoped>\n",
              "    .dataframe tbody tr th:only-of-type {\n",
              "        vertical-align: middle;\n",
              "    }\n",
              "\n",
              "    .dataframe tbody tr th {\n",
              "        vertical-align: top;\n",
              "    }\n",
              "\n",
              "    .dataframe thead th {\n",
              "        text-align: right;\n",
              "    }\n",
              "</style>\n",
              "<table border=\"1\" class=\"dataframe\">\n",
              "  <thead>\n",
              "    <tr style=\"text-align: right;\">\n",
              "      <th></th>\n",
              "      <th>i</th>\n",
              "      <th>Ui</th>\n",
              "      <th>i/n</th>\n",
              "      <th>i-1/n</th>\n",
              "      <th>f_xi</th>\n",
              "      <th>F_xi</th>\n",
              "    </tr>\n",
              "  </thead>\n",
              "  <tbody>\n",
              "    <tr>\n",
              "      <th>0</th>\n",
              "      <td>1</td>\n",
              "      <td>0.058279</td>\n",
              "      <td>0.1</td>\n",
              "      <td>0.0</td>\n",
              "      <td>0.1</td>\n",
              "      <td>0.1</td>\n",
              "    </tr>\n",
              "    <tr>\n",
              "      <th>1</th>\n",
              "      <td>2</td>\n",
              "      <td>0.248849</td>\n",
              "      <td>0.2</td>\n",
              "      <td>0.1</td>\n",
              "      <td>0.1</td>\n",
              "      <td>0.2</td>\n",
              "    </tr>\n",
              "    <tr>\n",
              "      <th>2</th>\n",
              "      <td>3</td>\n",
              "      <td>0.326321</td>\n",
              "      <td>0.3</td>\n",
              "      <td>0.2</td>\n",
              "      <td>0.1</td>\n",
              "      <td>0.3</td>\n",
              "    </tr>\n",
              "    <tr>\n",
              "      <th>3</th>\n",
              "      <td>4</td>\n",
              "      <td>0.411576</td>\n",
              "      <td>0.4</td>\n",
              "      <td>0.3</td>\n",
              "      <td>0.1</td>\n",
              "      <td>0.4</td>\n",
              "    </tr>\n",
              "    <tr>\n",
              "      <th>4</th>\n",
              "      <td>5</td>\n",
              "      <td>0.435057</td>\n",
              "      <td>0.5</td>\n",
              "      <td>0.4</td>\n",
              "      <td>0.1</td>\n",
              "      <td>0.5</td>\n",
              "    </tr>\n",
              "  </tbody>\n",
              "</table>\n",
              "</div>"
            ],
            "text/plain": [
              "   i        Ui  i/n  i-1/n  f_xi  F_xi\n",
              "0  1  0.058279  0.1    0.0   0.1   0.1\n",
              "1  2  0.248849  0.2    0.1   0.1   0.2\n",
              "2  3  0.326321  0.3    0.2   0.1   0.3\n",
              "3  4  0.411576  0.4    0.3   0.1   0.4\n",
              "4  5  0.435057  0.5    0.4   0.1   0.5"
            ]
          },
          "metadata": {},
          "execution_count": 116
        }
      ]
    },
    {
      "cell_type": "code",
      "metadata": {
        "id": "y8QKAYh3ZdjP"
      },
      "source": [
        "import matplotlib.pyplot as plt"
      ],
      "execution_count": 117,
      "outputs": []
    },
    {
      "cell_type": "code",
      "metadata": {
        "colab": {
          "base_uri": "https://localhost:8080/",
          "height": 282
        },
        "id": "IXDH0hKMZ9NU",
        "outputId": "eb538562-e463-44ae-e8fc-7839c730452d"
      },
      "source": [
        "plt.plot(df.F_xi,df.F_xi)\n",
        "plt.plot(df.Ui,df[\"i/n\"],\"go-\")"
      ],
      "execution_count": 118,
      "outputs": [
        {
          "output_type": "execute_result",
          "data": {
            "text/plain": [
              "[<matplotlib.lines.Line2D at 0x7f95a61ae6d0>]"
            ]
          },
          "metadata": {},
          "execution_count": 118
        },
        {
          "output_type": "display_data",
          "data": {
            "image/png": "[encoded data removed]",
            "text/plain": [
              "<Figure size 432x288 with 1 Axes>"
            ]
          },
          "metadata": {
            "needs_background": "light"
          }
        }
      ]
    },
    {
      "cell_type": "code",
      "metadata": {
        "id": "-5frlddobfhZ"
      },
      "source": [
        "df[\"K+\"]=abs(df[\"i/n\"]-df.Ui)\n",
        "df[\"K-\"]=abs(df.Ui-df[\"i-1/n\"])"
      ],
      "execution_count": 119,
      "outputs": []
    },
    {
      "cell_type": "code",
      "metadata": {
        "colab": {
          "base_uri": "https://localhost:8080/",
          "height": 359
        },
        "id": "2DTsKh87aCJ7",
        "outputId": "8542793d-27df-4c1c-bea4-5b6ad1990e2d"
      },
      "source": [
        "df"
      ],
      "execution_count": 120,
      "outputs": [
        {
          "output_type": "execute_result",
          "data": {
            "text/html": [
              "<div>\n",
              "<style scoped>\n",
              "    .dataframe tbody tr th:only-of-type {\n",
              "        vertical-align: middle;\n",
              "    }\n",
              "\n",
              "    .dataframe tbody tr th {\n",
              "        vertical-align: top;\n",
              "    }\n",
              "\n",
              "    .dataframe thead th {\n",
              "        text-align: right;\n",
              "    }\n",
              "</style>\n",
              "<table border=\"1\" class=\"dataframe\">\n",
              "  <thead>\n",
              "    <tr style=\"text-align: right;\">\n",
              "      <th></th>\n",
              "      <th>i</th>\n",
              "      <th>Ui</th>\n",
              "      <th>i/n</th>\n",
              "      <th>i-1/n</th>\n",
              "      <th>f_xi</th>\n",
              "      <th>F_xi</th>\n",
              "      <th>K+</th>\n",
              "      <th>K-</th>\n",
              "    </tr>\n",
              "  </thead>\n",
              "  <tbody>\n",
              "    <tr>\n",
              "      <th>0</th>\n",
              "      <td>1</td>\n",
              "      <td>0.058279</td>\n",
              "      <td>0.1</td>\n",
              "      <td>0.0</td>\n",
              "      <td>0.1</td>\n",
              "      <td>0.1</td>\n",
              "      <td>0.041721</td>\n",
              "      <td>0.058279</td>\n",
              "    </tr>\n",
              "    <tr>\n",
              "      <th>1</th>\n",
              "      <td>2</td>\n",
              "      <td>0.248849</td>\n",
              "      <td>0.2</td>\n",
              "      <td>0.1</td>\n",
              "      <td>0.1</td>\n",
              "      <td>0.2</td>\n",
              "      <td>0.048849</td>\n",
              "      <td>0.148849</td>\n",
              "    </tr>\n",
              "    <tr>\n",
              "      <th>2</th>\n",
              "      <td>3</td>\n",
              "      <td>0.326321</td>\n",
              "      <td>0.3</td>\n",
              "      <td>0.2</td>\n",
              "      <td>0.1</td>\n",
              "      <td>0.3</td>\n",
              "      <td>0.026321</td>\n",
              "      <td>0.126321</td>\n",
              "    </tr>\n",
              "    <tr>\n",
              "      <th>3</th>\n",
              "      <td>4</td>\n",
              "      <td>0.411576</td>\n",
              "      <td>0.4</td>\n",
              "      <td>0.3</td>\n",
              "      <td>0.1</td>\n",
              "      <td>0.4</td>\n",
              "      <td>0.011576</td>\n",
              "      <td>0.111576</td>\n",
              "    </tr>\n",
              "    <tr>\n",
              "      <th>4</th>\n",
              "      <td>5</td>\n",
              "      <td>0.435057</td>\n",
              "      <td>0.5</td>\n",
              "      <td>0.4</td>\n",
              "      <td>0.1</td>\n",
              "      <td>0.5</td>\n",
              "      <td>0.064943</td>\n",
              "      <td>0.035057</td>\n",
              "    </tr>\n",
              "    <tr>\n",
              "      <th>5</th>\n",
              "      <td>6</td>\n",
              "      <td>0.485013</td>\n",
              "      <td>0.6</td>\n",
              "      <td>0.5</td>\n",
              "      <td>0.1</td>\n",
              "      <td>0.6</td>\n",
              "      <td>0.114987</td>\n",
              "      <td>0.014987</td>\n",
              "    </tr>\n",
              "    <tr>\n",
              "      <th>6</th>\n",
              "      <td>7</td>\n",
              "      <td>0.503500</td>\n",
              "      <td>0.7</td>\n",
              "      <td>0.6</td>\n",
              "      <td>0.1</td>\n",
              "      <td>0.7</td>\n",
              "      <td>0.196500</td>\n",
              "      <td>0.096500</td>\n",
              "    </tr>\n",
              "    <tr>\n",
              "      <th>7</th>\n",
              "      <td>8</td>\n",
              "      <td>0.547168</td>\n",
              "      <td>0.8</td>\n",
              "      <td>0.7</td>\n",
              "      <td>0.1</td>\n",
              "      <td>0.8</td>\n",
              "      <td>0.252832</td>\n",
              "      <td>0.152832</td>\n",
              "    </tr>\n",
              "    <tr>\n",
              "      <th>8</th>\n",
              "      <td>9</td>\n",
              "      <td>0.611682</td>\n",
              "      <td>0.9</td>\n",
              "      <td>0.8</td>\n",
              "      <td>0.1</td>\n",
              "      <td>0.9</td>\n",
              "      <td>0.288318</td>\n",
              "      <td>0.188318</td>\n",
              "    </tr>\n",
              "    <tr>\n",
              "      <th>9</th>\n",
              "      <td>10</td>\n",
              "      <td>0.998397</td>\n",
              "      <td>1.0</td>\n",
              "      <td>0.9</td>\n",
              "      <td>0.1</td>\n",
              "      <td>1.0</td>\n",
              "      <td>0.001603</td>\n",
              "      <td>0.098397</td>\n",
              "    </tr>\n",
              "  </tbody>\n",
              "</table>\n",
              "</div>"
            ],
            "text/plain": [
              "    i        Ui  i/n  i-1/n  f_xi  F_xi        K+        K-\n",
              "0   1  0.058279  0.1    0.0   0.1   0.1  0.041721  0.058279\n",
              "1   2  0.248849  0.2    0.1   0.1   0.2  0.048849  0.148849\n",
              "2   3  0.326321  0.3    0.2   0.1   0.3  0.026321  0.126321\n",
              "3   4  0.411576  0.4    0.3   0.1   0.4  0.011576  0.111576\n",
              "4   5  0.435057  0.5    0.4   0.1   0.5  0.064943  0.035057\n",
              "5   6  0.485013  0.6    0.5   0.1   0.6  0.114987  0.014987\n",
              "6   7  0.503500  0.7    0.6   0.1   0.7  0.196500  0.096500\n",
              "7   8  0.547168  0.8    0.7   0.1   0.8  0.252832  0.152832\n",
              "8   9  0.611682  0.9    0.8   0.1   0.9  0.288318  0.188318\n",
              "9  10  0.998397  1.0    0.9   0.1   1.0  0.001603  0.098397"
            ]
          },
          "metadata": {},
          "execution_count": 120
        }
      ]
    },
    {
      "cell_type": "code",
      "metadata": {
        "id": "ed-fb2r5b4BM"
      },
      "source": [
        "Kplus=max(df[\"K+\"])\n",
        "Kmoins=max(df[\"K-\"])"
      ],
      "execution_count": 121,
      "outputs": []
    },
    {
      "cell_type": "code",
      "metadata": {
        "colab": {
          "base_uri": "https://localhost:8080/"
        },
        "id": "eFcgGH-RdUeO",
        "outputId": "5350cbe8-2fca-4a9c-9782-9d5530a76200"
      },
      "source": [
        "max(Kplus,Kmoins)"
      ],
      "execution_count": 122,
      "outputs": [
        {
          "output_type": "execute_result",
          "data": {
            "text/plain": [
              "0.2883180000000001"
            ]
          },
          "metadata": {},
          "execution_count": 122
        }
      ]
    },
    {
      "cell_type": "markdown",
      "metadata": {
        "id": "kbW6bF2jiwrG"
      },
      "source": [
        "Exercice 4:"
      ]
    },
    {
      "cell_type": "code",
      "metadata": {
        "colab": {
          "base_uri": "https://localhost:8080/"
        },
        "id": "Uruup7ghizAY",
        "outputId": "b46f2ce7-8c24-439d-efad-fb014cc1f9a7"
      },
      "source": [
        "Xi=[3, 4, 8, 10, 14, 18, 23, 24, 25, 29, 31, 33]\n",
        "len(Xi)"
      ],
      "execution_count": 123,
      "outputs": [
        {
          "output_type": "execute_result",
          "data": {
            "text/plain": [
              "12"
            ]
          },
          "metadata": {},
          "execution_count": 123
        }
      ]
    },
    {
      "cell_type": "code",
      "metadata": {
        "id": "CuzQ8jnci7XA"
      },
      "source": [
        "i=np.array([i for i in range(1,13)])\n",
        "df1=pd.DataFrame({\"i\":i,\"Xi\":Xi,\"i/n\":i/len(Xi),\"i-1/n\":(i-1)/len(Xi),\"f_xi\":[1/36 for i in range(12)]})"
      ],
      "execution_count": 124,
      "outputs": []
    },
    {
      "cell_type": "code",
      "metadata": {
        "colab": {
          "base_uri": "https://localhost:8080/",
          "height": 421
        },
        "id": "WU1knpXYjs8A",
        "outputId": "938deee4-4ab7-40e2-ef72-aba7ecc5b888"
      },
      "source": [
        "df1"
      ],
      "execution_count": 125,
      "outputs": [
        {
          "output_type": "execute_result",
          "data": {
            "text/html": [
              "<div>\n",
              "<style scoped>\n",
              "    .dataframe tbody tr th:only-of-type {\n",
              "        vertical-align: middle;\n",
              "    }\n",
              "\n",
              "    .dataframe tbody tr th {\n",
              "        vertical-align: top;\n",
              "    }\n",
              "\n",
              "    .dataframe thead th {\n",
              "        text-align: right;\n",
              "    }\n",
              "</style>\n",
              "<table border=\"1\" class=\"dataframe\">\n",
              "  <thead>\n",
              "    <tr style=\"text-align: right;\">\n",
              "      <th></th>\n",
              "      <th>i</th>\n",
              "      <th>Xi</th>\n",
              "      <th>i/n</th>\n",
              "      <th>i-1/n</th>\n",
              "      <th>f_xi</th>\n",
              "    </tr>\n",
              "  </thead>\n",
              "  <tbody>\n",
              "    <tr>\n",
              "      <th>0</th>\n",
              "      <td>1</td>\n",
              "      <td>3</td>\n",
              "      <td>0.083333</td>\n",
              "      <td>0.000000</td>\n",
              "      <td>0.027778</td>\n",
              "    </tr>\n",
              "    <tr>\n",
              "      <th>1</th>\n",
              "      <td>2</td>\n",
              "      <td>4</td>\n",
              "      <td>0.166667</td>\n",
              "      <td>0.083333</td>\n",
              "      <td>0.027778</td>\n",
              "    </tr>\n",
              "    <tr>\n",
              "      <th>2</th>\n",
              "      <td>3</td>\n",
              "      <td>8</td>\n",
              "      <td>0.250000</td>\n",
              "      <td>0.166667</td>\n",
              "      <td>0.027778</td>\n",
              "    </tr>\n",
              "    <tr>\n",
              "      <th>3</th>\n",
              "      <td>4</td>\n",
              "      <td>10</td>\n",
              "      <td>0.333333</td>\n",
              "      <td>0.250000</td>\n",
              "      <td>0.027778</td>\n",
              "    </tr>\n",
              "    <tr>\n",
              "      <th>4</th>\n",
              "      <td>5</td>\n",
              "      <td>14</td>\n",
              "      <td>0.416667</td>\n",
              "      <td>0.333333</td>\n",
              "      <td>0.027778</td>\n",
              "    </tr>\n",
              "    <tr>\n",
              "      <th>5</th>\n",
              "      <td>6</td>\n",
              "      <td>18</td>\n",
              "      <td>0.500000</td>\n",
              "      <td>0.416667</td>\n",
              "      <td>0.027778</td>\n",
              "    </tr>\n",
              "    <tr>\n",
              "      <th>6</th>\n",
              "      <td>7</td>\n",
              "      <td>23</td>\n",
              "      <td>0.583333</td>\n",
              "      <td>0.500000</td>\n",
              "      <td>0.027778</td>\n",
              "    </tr>\n",
              "    <tr>\n",
              "      <th>7</th>\n",
              "      <td>8</td>\n",
              "      <td>24</td>\n",
              "      <td>0.666667</td>\n",
              "      <td>0.583333</td>\n",
              "      <td>0.027778</td>\n",
              "    </tr>\n",
              "    <tr>\n",
              "      <th>8</th>\n",
              "      <td>9</td>\n",
              "      <td>25</td>\n",
              "      <td>0.750000</td>\n",
              "      <td>0.666667</td>\n",
              "      <td>0.027778</td>\n",
              "    </tr>\n",
              "    <tr>\n",
              "      <th>9</th>\n",
              "      <td>10</td>\n",
              "      <td>29</td>\n",
              "      <td>0.833333</td>\n",
              "      <td>0.750000</td>\n",
              "      <td>0.027778</td>\n",
              "    </tr>\n",
              "    <tr>\n",
              "      <th>10</th>\n",
              "      <td>11</td>\n",
              "      <td>31</td>\n",
              "      <td>0.916667</td>\n",
              "      <td>0.833333</td>\n",
              "      <td>0.027778</td>\n",
              "    </tr>\n",
              "    <tr>\n",
              "      <th>11</th>\n",
              "      <td>12</td>\n",
              "      <td>33</td>\n",
              "      <td>1.000000</td>\n",
              "      <td>0.916667</td>\n",
              "      <td>0.027778</td>\n",
              "    </tr>\n",
              "  </tbody>\n",
              "</table>\n",
              "</div>"
            ],
            "text/plain": [
              "     i  Xi       i/n     i-1/n      f_xi\n",
              "0    1   3  0.083333  0.000000  0.027778\n",
              "1    2   4  0.166667  0.083333  0.027778\n",
              "2    3   8  0.250000  0.166667  0.027778\n",
              "3    4  10  0.333333  0.250000  0.027778\n",
              "4    5  14  0.416667  0.333333  0.027778\n",
              "5    6  18  0.500000  0.416667  0.027778\n",
              "6    7  23  0.583333  0.500000  0.027778\n",
              "7    8  24  0.666667  0.583333  0.027778\n",
              "8    9  25  0.750000  0.666667  0.027778\n",
              "9   10  29  0.833333  0.750000  0.027778\n",
              "10  11  31  0.916667  0.833333  0.027778\n",
              "11  12  33  1.000000  0.916667  0.027778"
            ]
          },
          "metadata": {},
          "execution_count": 125
        }
      ]
    },
    {
      "cell_type": "code",
      "metadata": {
        "id": "K6_L1C50kfPA"
      },
      "source": [
        "df1[\"F_xi\"]=df1.Xi/36"
      ],
      "execution_count": 126,
      "outputs": []
    },
    {
      "cell_type": "code",
      "metadata": {
        "id": "0RXGk8Lel7L4"
      },
      "source": [
        "df1[\"K+\"]=abs(df1[\"i/n\"]-df1.F_xi)\n",
        "df1[\"K-\"]=abs(df1.F_xi-df1[\"i-1/n\"])"
      ],
      "execution_count": 127,
      "outputs": []
    },
    {
      "cell_type": "code",
      "metadata": {
        "colab": {
          "base_uri": "https://localhost:8080/",
          "height": 421
        },
        "id": "BT-MRSslmUUv",
        "outputId": "8ab2e4d9-059b-4cd4-9fdb-1a79e0486e1c"
      },
      "source": [
        "df1"
      ],
      "execution_count": 128,
      "outputs": [
        {
          "output_type": "execute_result",
          "data": {
            "text/html": [
              "<div>\n",
              "<style scoped>\n",
              "    .dataframe tbody tr th:only-of-type {\n",
              "        vertical-align: middle;\n",
              "    }\n",
              "\n",
              "    .dataframe tbody tr th {\n",
              "        vertical-align: top;\n",
              "    }\n",
              "\n",
              "    .dataframe thead th {\n",
              "        text-align: right;\n",
              "    }\n",
              "</style>\n",
              "<table border=\"1\" class=\"dataframe\">\n",
              "  <thead>\n",
              "    <tr style=\"text-align: right;\">\n",
              "      <th></th>\n",
              "      <th>i</th>\n",
              "      <th>Xi</th>\n",
              "      <th>i/n</th>\n",
              "      <th>i-1/n</th>\n",
              "      <th>f_xi</th>\n",
              "      <th>F_xi</th>\n",
              "      <th>K+</th>\n",
              "      <th>K-</th>\n",
              "    </tr>\n",
              "  </thead>\n",
              "  <tbody>\n",
              "    <tr>\n",
              "      <th>0</th>\n",
              "      <td>1</td>\n",
              "      <td>3</td>\n",
              "      <td>0.083333</td>\n",
              "      <td>0.000000</td>\n",
              "      <td>0.027778</td>\n",
              "      <td>0.083333</td>\n",
              "      <td>0.000000</td>\n",
              "      <td>0.083333</td>\n",
              "    </tr>\n",
              "    <tr>\n",
              "      <th>1</th>\n",
              "      <td>2</td>\n",
              "      <td>4</td>\n",
              "      <td>0.166667</td>\n",
              "      <td>0.083333</td>\n",
              "      <td>0.027778</td>\n",
              "      <td>0.111111</td>\n",
              "      <td>0.055556</td>\n",
              "      <td>0.027778</td>\n",
              "    </tr>\n",
              "    <tr>\n",
              "      <th>2</th>\n",
              "      <td>3</td>\n",
              "      <td>8</td>\n",
              "      <td>0.250000</td>\n",
              "      <td>0.166667</td>\n",
              "      <td>0.027778</td>\n",
              "      <td>0.222222</td>\n",
              "      <td>0.027778</td>\n",
              "      <td>0.055556</td>\n",
              "    </tr>\n",
              "    <tr>\n",
              "      <th>3</th>\n",
              "      <td>4</td>\n",
              "      <td>10</td>\n",
              "      <td>0.333333</td>\n",
              "      <td>0.250000</td>\n",
              "      <td>0.027778</td>\n",
              "      <td>0.277778</td>\n",
              "      <td>0.055556</td>\n",
              "      <td>0.027778</td>\n",
              "    </tr>\n",
              "    <tr>\n",
              "      <th>4</th>\n",
              "      <td>5</td>\n",
              "      <td>14</td>\n",
              "      <td>0.416667</td>\n",
              "      <td>0.333333</td>\n",
              "      <td>0.027778</td>\n",
              "      <td>0.388889</td>\n",
              "      <td>0.027778</td>\n",
              "      <td>0.055556</td>\n",
              "    </tr>\n",
              "    <tr>\n",
              "      <th>5</th>\n",
              "      <td>6</td>\n",
              "      <td>18</td>\n",
              "      <td>0.500000</td>\n",
              "      <td>0.416667</td>\n",
              "      <td>0.027778</td>\n",
              "      <td>0.500000</td>\n",
              "      <td>0.000000</td>\n",
              "      <td>0.083333</td>\n",
              "    </tr>\n",
              "    <tr>\n",
              "      <th>6</th>\n",
              "      <td>7</td>\n",
              "      <td>23</td>\n",
              "      <td>0.583333</td>\n",
              "      <td>0.500000</td>\n",
              "      <td>0.027778</td>\n",
              "      <td>0.638889</td>\n",
              "      <td>0.055556</td>\n",
              "      <td>0.138889</td>\n",
              "    </tr>\n",
              "    <tr>\n",
              "      <th>7</th>\n",
              "      <td>8</td>\n",
              "      <td>24</td>\n",
              "      <td>0.666667</td>\n",
              "      <td>0.583333</td>\n",
              "      <td>0.027778</td>\n",
              "      <td>0.666667</td>\n",
              "      <td>0.000000</td>\n",
              "      <td>0.083333</td>\n",
              "    </tr>\n",
              "    <tr>\n",
              "      <th>8</th>\n",
              "      <td>9</td>\n",
              "      <td>25</td>\n",
              "      <td>0.750000</td>\n",
              "      <td>0.666667</td>\n",
              "      <td>0.027778</td>\n",
              "      <td>0.694444</td>\n",
              "      <td>0.055556</td>\n",
              "      <td>0.027778</td>\n",
              "    </tr>\n",
              "    <tr>\n",
              "      <th>9</th>\n",
              "      <td>10</td>\n",
              "      <td>29</td>\n",
              "      <td>0.833333</td>\n",
              "      <td>0.750000</td>\n",
              "      <td>0.027778</td>\n",
              "      <td>0.805556</td>\n",
              "      <td>0.027778</td>\n",
              "      <td>0.055556</td>\n",
              "    </tr>\n",
              "    <tr>\n",
              "      <th>10</th>\n",
              "      <td>11</td>\n",
              "      <td>31</td>\n",
              "      <td>0.916667</td>\n",
              "      <td>0.833333</td>\n",
              "      <td>0.027778</td>\n",
              "      <td>0.861111</td>\n",
              "      <td>0.055556</td>\n",
              "      <td>0.027778</td>\n",
              "    </tr>\n",
              "    <tr>\n",
              "      <th>11</th>\n",
              "      <td>12</td>\n",
              "      <td>33</td>\n",
              "      <td>1.000000</td>\n",
              "      <td>0.916667</td>\n",
              "      <td>0.027778</td>\n",
              "      <td>0.916667</td>\n",
              "      <td>0.083333</td>\n",
              "      <td>0.000000</td>\n",
              "    </tr>\n",
              "  </tbody>\n",
              "</table>\n",
              "</div>"
            ],
            "text/plain": [
              "     i  Xi       i/n     i-1/n      f_xi      F_xi        K+        K-\n",
              "0    1   3  0.083333  0.000000  0.027778  0.083333  0.000000  0.083333\n",
              "1    2   4  0.166667  0.083333  0.027778  0.111111  0.055556  0.027778\n",
              "2    3   8  0.250000  0.166667  0.027778  0.222222  0.027778  0.055556\n",
              "3    4  10  0.333333  0.250000  0.027778  0.277778  0.055556  0.027778\n",
              "4    5  14  0.416667  0.333333  0.027778  0.388889  0.027778  0.055556\n",
              "5    6  18  0.500000  0.416667  0.027778  0.500000  0.000000  0.083333\n",
              "6    7  23  0.583333  0.500000  0.027778  0.638889  0.055556  0.138889\n",
              "7    8  24  0.666667  0.583333  0.027778  0.666667  0.000000  0.083333\n",
              "8    9  25  0.750000  0.666667  0.027778  0.694444  0.055556  0.027778\n",
              "9   10  29  0.833333  0.750000  0.027778  0.805556  0.027778  0.055556\n",
              "10  11  31  0.916667  0.833333  0.027778  0.861111  0.055556  0.027778\n",
              "11  12  33  1.000000  0.916667  0.027778  0.916667  0.083333  0.000000"
            ]
          },
          "metadata": {},
          "execution_count": 128
        }
      ]
    },
    {
      "cell_type": "code",
      "metadata": {
        "id": "HtB-IUxsltXq"
      },
      "source": [
        "Kplus=max(df1[\"K+\"])\n",
        "Kmoins=max(df1[\"K-\"])"
      ],
      "execution_count": 129,
      "outputs": []
    },
    {
      "cell_type": "code",
      "metadata": {
        "colab": {
          "base_uri": "https://localhost:8080/"
        },
        "id": "KV0UAWiLmI6-",
        "outputId": "88b94065-4ff0-4b81-8efc-35224ab7be7c"
      },
      "source": [
        "max(Kplus,Kmoins)"
      ],
      "execution_count": 130,
      "outputs": [
        {
          "output_type": "execute_result",
          "data": {
            "text/plain": [
              "0.13888888888888884"
            ]
          },
          "metadata": {},
          "execution_count": 130
        }
      ]
    },
    {
      "cell_type": "code",
      "metadata": {
        "id": "1pu6ak4vpgn-"
      },
      "source": [
        ""
      ],
      "execution_count": 130,
      "outputs": []
    }
  ]
}