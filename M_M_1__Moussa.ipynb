{
  "nbformat": 4,
  "nbformat_minor": 0,
  "metadata": {
    "colab": {
      "name": "M_M_1 _Moussa.ipynb",
      "provenance": [],
      "collapsed_sections": [],
      "include_colab_link": true
    },
    "kernelspec": {
      "display_name": "Python 3",
      "language": "python",
      "name": "python3"
    },
    "language_info": {
      "codemirror_mode": {
        "name": "ipython",
        "version": 3
      },
      "file_extension": ".py",
      "mimetype": "text/x-python",
      "name": "python",
      "nbconvert_exporter": "python",
      "pygments_lexer": "ipython3",
      "version": "3.8.5"
    }
  },
  "cells": [
    {
      "cell_type": "markdown",
      "metadata": {
        "id": "view-in-github",
        "colab_type": "text"
      },
      "source": [
        "<a href=\"https://colab.research.google.com/github/SIDIBEMoussa/Simulation-ev-n-ment-discret/blob/main/M_M_1__Moussa.ipynb\" target=\"_parent\"><img src=\"https://colab.research.google.com/assets/colab-badge.svg\" alt=\"Open In Colab\"/></a>"
      ]
    },
    {
      "cell_type": "code",
      "metadata": {
        "id": "-IDrVRTBJ1wh"
      },
      "source": [
        "import numpy as np\n",
        "import matplotlib.pyplot as pl\n",
        "import pandas as pd"
      ],
      "execution_count": null,
      "outputs": []
    },
    {
      "cell_type": "code",
      "metadata": {
        "id": "yOVs7Z6wpY2J"
      },
      "source": [
        "def GenerateMM(Nbr_cl):\n",
        "  np.random.seed(100)\n",
        "  t_inter_arr=int(np.random.uniform(0,1)*10)\n",
        "  t_debut_ser=t_arr=t_inter_arr\n",
        "  t_ser=int(np.random.uniform(0,0.51)*10)\n",
        "  t_fin_ser=t_inter_arr+t_ser\n",
        "  t_sejour=t_fin_ser-t_arr\n",
        "  t_ser_libre=0\n",
        "  t_attente=t_debut_ser-t_arr\n",
        "  #Cumul\n",
        "  \n",
        "  sejour_cumul=t_sejour\n",
        "  arr_cumul=t_arr\n",
        "  servi_cumul=t_ser\n",
        "  inter_arr_cumul=t_inter_arr\n",
        "  sejour_cumul=t_attente+t_ser\n",
        "  t_ser_libre_cumul=0\n",
        "  n=1\n",
        "\n",
        "  #check=[t_inter_arr]\n",
        "  while n<=Nbr_cl:\n",
        "      t_inter_arr=int(np.random.uniform(0,1.01)*10)\n",
        "      t_arr+=t_inter_arr\n",
        "      t_ser_libre=max(0,t_arr-t_fin_ser)\n",
        "      t_debut_ser=max(t_fin_ser,t_arr)\n",
        "      t_attente=t_debut_ser-t_arr\n",
        "      t_ser=int(np.random.uniform(0,0.6)*10)\n",
        "      t_fin_ser=t_debut_ser+t_ser\n",
        "      t_sejour=t_attente+t_ser\n",
        "      \n",
        "      #check.append(t_inter_arr)\n",
        "      \n",
        "      #Cumul\n",
        "      \n",
        "      #att_cumul+=t_attente\n",
        "      arr_cumul+=t_arr\n",
        "      servi_cumul+=t_ser\n",
        "      inter_arr_cumul+=t_inter_arr\n",
        "      sejour_cumul+=t_sejour\n",
        "      t_ser_libre_cumul+=t_ser_libre\n",
        "      n=n+1\n",
        "  df=pd.DataFrame({\"Nbre_client\":[n-1],\"arrivé_cum\":[arr_cumul],\"service_cum\":[servi_cumul],\"inter_arrivé_cum\":[inter_arr_cumul],\"sejour_cum\":[sejour_cumul],\"server_libre_cumul\":[t_ser_libre_cumul]})\n",
        "  return df, check\n"
      ],
      "execution_count": null,
      "outputs": []
    },
    {
      "cell_type": "code",
      "metadata": {
        "colab": {
          "base_uri": "https://localhost:8080/",
          "height": 80
        },
        "id": "q-AZuoVn4ySV",
        "outputId": "27a19f64-7a14-4885-aa6f-b86360ccf9f7"
      },
      "source": [
        "df,check=GenerateMM(1000)\n",
        "df"
      ],
      "execution_count": null,
      "outputs": [
        {
          "output_type": "execute_result",
          "data": {
            "text/html": [
              "<div>\n",
              "<style scoped>\n",
              "    .dataframe tbody tr th:only-of-type {\n",
              "        vertical-align: middle;\n",
              "    }\n",
              "\n",
              "    .dataframe tbody tr th {\n",
              "        vertical-align: top;\n",
              "    }\n",
              "\n",
              "    .dataframe thead th {\n",
              "        text-align: right;\n",
              "    }\n",
              "</style>\n",
              "<table border=\"1\" class=\"dataframe\">\n",
              "  <thead>\n",
              "    <tr style=\"text-align: right;\">\n",
              "      <th></th>\n",
              "      <th>Nbre_client</th>\n",
              "      <th>arrivé_cum</th>\n",
              "      <th>service_cum</th>\n",
              "      <th>inter_arrivé_cum</th>\n",
              "      <th>sejour_cum</th>\n",
              "      <th>server_libre_cumul</th>\n",
              "    </tr>\n",
              "  </thead>\n",
              "  <tbody>\n",
              "    <tr>\n",
              "      <th>0</th>\n",
              "      <td>1000</td>\n",
              "      <td>2238237</td>\n",
              "      <td>2447</td>\n",
              "      <td>4401</td>\n",
              "      <td>3657</td>\n",
              "      <td>1955</td>\n",
              "    </tr>\n",
              "  </tbody>\n",
              "</table>\n",
              "</div>"
            ],
            "text/plain": [
              "   Nbre_client  arrivé_cum  ...  sejour_cum  server_libre_cumul\n",
              "0         1000     2238237  ...        3657                1955\n",
              "\n",
              "[1 rows x 6 columns]"
            ]
          },
          "metadata": {
            "tags": []
          },
          "execution_count": 132
        }
      ]
    },
    {
      "cell_type": "code",
      "metadata": {
        "colab": {
          "base_uri": "https://localhost:8080/"
        },
        "id": "bAysYYC0_SOZ",
        "outputId": "f09bbc54-6262-483e-cea7-b6df32d131e6"
      },
      "source": [
        "lamda1=float(1/(df.inter_arrivé_cum/df.Nbre_client))\n",
        "mu1=float(1/(df.service_cum/df.Nbre_client))\n",
        "ro=lamda1/mu1\n",
        "(mu1,lamda1,ro)"
      ],
      "execution_count": null,
      "outputs": [
        {
          "output_type": "execute_result",
          "data": {
            "text/plain": [
              "(0.40866366979975477, 0.22722108611679165, 0.5560099977277893)"
            ]
          },
          "metadata": {
            "tags": []
          },
          "execution_count": 135
        }
      ]
    },
    {
      "cell_type": "code",
      "metadata": {
        "id": "nYjvEGFgY-HH"
      },
      "source": [
        "nbr_cl_syst=ro/(1-ro)\n",
        "nbr_cl_file=nbr_cl_syst-ro\n",
        "duree_sejour=nbr_cl_syst/lamda1"
      ],
      "execution_count": null,
      "outputs": []
    },
    {
      "cell_type": "code",
      "metadata": {
        "colab": {
          "base_uri": "https://localhost:8080/"
        },
        "id": "FA3JcNWAx3Ui",
        "outputId": "770b50d1-3633-49ea-bcf5-28b11d134aea"
      },
      "source": [
        "print(\"le taux d'occupation du server est:{:.2%}\".format(ro))\n",
        "print(\"le nombre moyen de client dans le système:{:.2} personne(s)\".format(nbr_cl_syst))\n",
        "print(\"le nombre moyen de client dans la file d'attente:{:.2} personne(s)\".format(nbr_cl_file))\n",
        "print(\"La durée moyenne de séjour:{:.2} minutes\".format(duree_sejour))"
      ],
      "execution_count": null,
      "outputs": [
        {
          "output_type": "stream",
          "text": [
            "le taux d'occupation du server est:55.60%\n",
            "le nombre moyen de client dans le système:1.3 personne(s)\n",
            "le nombre moyen de client dans la file d'attente:0.7 personne(s)\n",
            "La durée moyenne de séjour:5.5 minutes\n"
          ],
          "name": "stdout"
        }
      ]
    },
    {
      "cell_type": "code",
      "metadata": {
        "id": "HzwMybY-x5Rf"
      },
      "source": [
        ""
      ],
      "execution_count": null,
      "outputs": []
    }
  ]
}