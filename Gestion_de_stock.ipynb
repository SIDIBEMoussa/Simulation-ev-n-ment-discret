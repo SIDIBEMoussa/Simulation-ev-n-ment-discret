{
  "nbformat": 4,
  "nbformat_minor": 0,
  "metadata": {
    "colab": {
      "name": "Gestion de stock.ipynb",
      "provenance": [],
      "authorship_tag": "ABX9TyNQTINcYRVRI8y75JVrHaZg",
      "include_colab_link": true
    },
    "kernelspec": {
      "name": "python3",
      "display_name": "Python 3"
    },
    "language_info": {
      "name": "python"
    }
  },
  "cells": [
    {
      "cell_type": "markdown",
      "metadata": {
        "id": "view-in-github",
        "colab_type": "text"
      },
      "source": [
        "<a href=\"https://colab.research.google.com/github/SIDIBEMoussa/Simulation-ev-n-ment-discret/blob/main/Gestion_de_stock.ipynb\" target=\"_parent\"><img src=\"https://colab.research.google.com/assets/colab-badge.svg\" alt=\"Open In Colab\"/></a>"
      ]
    },
    {
      "cell_type": "code",
      "metadata": {
        "colab": {
          "base_uri": "https://localhost:8080/"
        },
        "id": "Widryylghqu2",
        "outputId": "88023512-13e9-412d-8ae3-25f2f6897c16"
      },
      "source": [
        "!pip install simple_colors"
      ],
      "execution_count": 3,
      "outputs": [
        {
          "output_type": "stream",
          "text": [
            "Collecting simple_colors\n",
            "  Downloading https://files.pythonhosted.org/packages/0f/07/e6710827a51f6bb5ef671f84db98275b122ae3e382726041c823bead1a84/simple_colors-0.1.5-py3-none-any.whl\n",
            "Installing collected packages: simple-colors\n",
            "Successfully installed simple-colors-0.1.5\n"
          ],
          "name": "stdout"
        }
      ]
    },
    {
      "cell_type": "code",
      "metadata": {
        "id": "aWCJIVKehQ2q"
      },
      "source": [
        "import numpy as np\n",
        "import matplotlib.pyplot as plt\n",
        "from matplotlib.ticker import *\n",
        "from simple_colors import *"
      ],
      "execution_count": 4,
      "outputs": []
    },
    {
      "cell_type": "code",
      "metadata": {
        "id": "FNMmBrtnhwUo"
      },
      "source": [
        "\n"
      ],
      "execution_count": 13,
      "outputs": []
    },
    {
      "cell_type": "code",
      "metadata": {
        "id": "xLj6XZH4jAAn"
      },
      "source": [
        "#S,s,I=15,10,5\n"
      ],
      "execution_count": 15,
      "outputs": []
    },
    {
      "cell_type": "code",
      "metadata": {
        "id": "VPufGtZ_ly3R"
      },
      "source": [
        "class Gestion_stock:\n",
        "  def __init__(self,S,s,I,K,i,h,p):\n",
        "    self.S=S\n",
        "    self.s=s\n",
        "    self.I=I\n",
        "    self.K=K\n",
        "    self.i=i\n",
        "    self.h=h\n",
        "    self.p=p\n",
        "  def f_commande(self):\n",
        "    if self.I<self.s:\n",
        "      return S-I\n",
        "    return 0\n",
        "\n",
        "  def cout_commande(K,i):\n",
        "    X=f_commande(S,s,I)\n",
        "    if f_commande(S,s,I)>0:\n",
        "      return K+i*X\n",
        "    return 0\n",
        "\n",
        "  def demande(self):\n",
        "    \n",
        "\n",
        "  def f_penalite(self):\n",
        "    f_obj=h*(self.S-self.I)+p*(D-I)\n",
        "\n",
        "\n"
      ],
      "execution_count": null,
      "outputs": []
    }
  ]
}