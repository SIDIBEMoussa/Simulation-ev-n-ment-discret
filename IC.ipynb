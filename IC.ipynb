{
  "nbformat": 4,
  "nbformat_minor": 0,
  "metadata": {
    "colab": {
      "name": "IC.ipynb",
      "provenance": [],
      "authorship_tag": "ABX9TyNZG0tGVwlY7WUHx03I7z5o",
      "include_colab_link": true
    },
    "kernelspec": {
      "display_name": "Python 3",
      "name": "python3"
    },
    "language_info": {
      "name": "python"
    }
  },
  "cells": [
    {
      "cell_type": "markdown",
      "metadata": {
        "id": "view-in-github",
        "colab_type": "text"
      },
      "source": [
        "<a href=\"https://colab.research.google.com/github/SIDIBEMoussa/Simulation-ev-n-ment-discret/blob/main/IC.ipynb\" target=\"_parent\"><img src=\"https://colab.research.google.com/assets/colab-badge.svg\" alt=\"Open In Colab\"/></a>"
      ]
    },
    {
      "cell_type": "code",
      "metadata": {
        "colab": {
          "background_save": true
        },
        "id": "sJuKfecVZ_vQ"
      },
      "source": [
        "from math import *\n",
        "import numpy as np\n",
        "import numpy.random as rd\n",
        "import seaborn as sns\n",
        "import matplotlib.pyplot as plt\n",
        "import scipy.stats as stats"
      ],
      "execution_count": null,
      "outputs": []
    },
    {
      "cell_type": "code",
      "metadata": {
        "colab": {
          "background_save": true
        },
        "id": "wfnnNSo2as-0"
      },
      "source": [
        "def Methode_Box_Muller(nbre_N01):\n",
        "    X=[]\n",
        "\n",
        "    for i in range(nbre_N01):\n",
        "        U1=rd.rand()\n",
        "        U2=rd.rand()\n",
        "        X_i=cos(2*pi*U1)*sqrt(-2*log(U2))\n",
        "        X.append(X_i)\n",
        "    #X_norm01=rd.randnrandn()\n",
        "    #plt.scatter(x=range(len(X)),y=X)\n",
        "\n",
        "    return X\n"
      ],
      "execution_count": null,
      "outputs": []
    },
    {
      "cell_type": "code",
      "metadata": {
        "colab": {
          "background_save": true
        },
        "id": "vxhv4UdGblQR"
      },
      "source": [
        "N01=Methode_Box_Muller(10)"
      ],
      "execution_count": null,
      "outputs": []
    },
    {
      "cell_type": "code",
      "metadata": {
        "colab": {
          "background_save": true
        },
        "id": "uJs5n5TpbnnY"
      },
      "source": [
        ""
      ],
      "execution_count": null,
      "outputs": []
    },
    {
      "cell_type": "code",
      "metadata": {
        "colab": {
          "background_save": true
        },
        "id": "LzwJ1NGze3A-"
      },
      "source": [
        "def IC(mu,alpha,X): #mu:l'espérance des  valeurs aléatoire générer et df: dégré de liberté\n",
        "    quantile=stats.t.ppf(1-alpha,df=len(X)-1)\n",
        "    S_sans_bias=sqrt((1/(len(X)-1))*(np.sum(X-np.mean(X))**2))\n",
        "    a=mu-S_sans_bias/(len(X)-1)\n",
        "    b=mu+S_sans_bias/(len(X)-1)\n",
        "    confident_I=[a,b]\n",
        "    return confident_I\n"
      ],
      "execution_count": null,
      "outputs": []
    },
    {
      "cell_type": "code",
      "metadata": {
        "colab": {
          "background_save": true
        },
        "id": "uafBsqo3q55d"
      },
      "source": [
        "#mu:l'espérance des  valeurs aléatoire générer et df: dégré de liberté\n",
        "def IC(alpha): \n",
        "    IN=0\n",
        "    for i in range(1000):\n",
        "        X=Methode_Box_Muller(10)\n",
        "        quantile=stats.t.ppf(1-alpha,df=len(X)-1)\n",
        "        mu=np.mean(X)\n",
        "        S_sans_bias=sqrt((1/(len(X)-1))*(np.sum(X-np.mean(X))**2))\n",
        "        a=mu-S_sans_bias/(len(X)-1)\n",
        "        b=mu+S_sans_bias/(len(X)-1)\n",
        "        confident_I=[a,b]\n",
        "        mu=np.mean(X)\n",
        "        if mu in confident_I:\n",
        "            IN+=1\n",
        "    return IN\n"
      ],
      "execution_count": null,
      "outputs": []
    },
    {
      "cell_type": "code",
      "metadata": {
        "colab": {
          "background_save": true,
          "base_uri": "https://localhost:8080/"
        },
        "id": "sflJA50dqwFH",
        "outputId": "b4efedc7-4069-4e1f-a5dd-36142117dbb0"
      },
      "source": [
        "IC(0.05)"
      ],
      "execution_count": null,
      "outputs": [
        {
          "data": {
            "text/plain": [
              "679"
            ]
          },
          "execution_count": null,
          "metadata": {},
          "output_type": "execute_result"
        }
      ]
    },
    {
      "cell_type": "code",
      "metadata": {
        "colab": {
          "background_save": true,
          "base_uri": "https://localhost:8080/",
          "height": 215
        },
        "id": "C0eVP6nshPeb",
        "outputId": "083865b2-6e4a-496c-d1c0-94e5f0ce3c13"
      },
      "source": [
        "X=Methode_Box_Muller(10)\n",
        "mu=np.mean(X)\n",
        "alpha=0.05\n",
        "IC=IC(mu,alpha,X)\n",
        "print(mu,IC)"
      ],
      "execution_count": null,
      "outputs": [
        {
          "ename": "TypeError",
          "evalue": "ignored",
          "output_type": "error",
          "traceback": [
            "\u001b[0;31m---------------------------------------------------------------------------\u001b[0m",
            "\u001b[0;31mTypeError\u001b[0m                                 Traceback (most recent call last)",
            "\u001b[0;32m<ipython-input-185-61da05614db0>\u001b[0m in \u001b[0;36m<module>\u001b[0;34m()\u001b[0m\n\u001b[1;32m      2\u001b[0m \u001b[0mmu\u001b[0m\u001b[0;34m=\u001b[0m\u001b[0mnp\u001b[0m\u001b[0;34m.\u001b[0m\u001b[0mmean\u001b[0m\u001b[0;34m(\u001b[0m\u001b[0mX\u001b[0m\u001b[0;34m)\u001b[0m\u001b[0;34m\u001b[0m\u001b[0;34m\u001b[0m\u001b[0m\n\u001b[1;32m      3\u001b[0m \u001b[0malpha\u001b[0m\u001b[0;34m=\u001b[0m\u001b[0;36m0.05\u001b[0m\u001b[0;34m\u001b[0m\u001b[0;34m\u001b[0m\u001b[0m\n\u001b[0;32m----> 4\u001b[0;31m \u001b[0mIC\u001b[0m\u001b[0;34m=\u001b[0m\u001b[0mIC\u001b[0m\u001b[0;34m(\u001b[0m\u001b[0mmu\u001b[0m\u001b[0;34m,\u001b[0m\u001b[0malpha\u001b[0m\u001b[0;34m,\u001b[0m\u001b[0mX\u001b[0m\u001b[0;34m)\u001b[0m\u001b[0;34m\u001b[0m\u001b[0;34m\u001b[0m\u001b[0m\n\u001b[0m\u001b[1;32m      5\u001b[0m \u001b[0mprint\u001b[0m\u001b[0;34m(\u001b[0m\u001b[0mmu\u001b[0m\u001b[0;34m,\u001b[0m\u001b[0mIC\u001b[0m\u001b[0;34m)\u001b[0m\u001b[0;34m\u001b[0m\u001b[0;34m\u001b[0m\u001b[0m\n",
            "\u001b[0;31mTypeError\u001b[0m: IC() takes 1 positional argument but 3 were given"
          ]
        }
      ]
    },
    {
      "cell_type": "code",
      "metadata": {
        "colab": {
          "background_save": true
        },
        "id": "zJQrqvnokdmV"
      },
      "source": [
        "IN=0\n",
        "for i in range(1000):\n",
        "    X=Methode_Box_Muller(10)\n",
        "    mu=np.mean(X)\n",
        "    alpha=0.05\n",
        "    IC=IC(mu,alpha,X)\n",
        "    if mu in IC:\n",
        "        IN+=1\n"
      ],
      "execution_count": null,
      "outputs": []
    },
    {
      "cell_type": "code",
      "metadata": {
        "colab": {
          "background_save": true
        },
        "id": "uskX3xalnAiv"
      },
      "source": [
        "IN"
      ],
      "execution_count": null,
      "outputs": []
    },
    {
      "cell_type": "code",
      "metadata": {
        "colab": {
          "background_save": true
        },
        "id": "Eta_NNcBn8mN"
      },
      "source": [
        "IC=IC(mu,alpha,X)"
      ],
      "execution_count": null,
      "outputs": []
    },
    {
      "cell_type": "code",
      "metadata": {
        "colab": {
          "background_save": true
        },
        "id": "4B9pTWt1oDQI"
      },
      "source": [
        ""
      ],
      "execution_count": null,
      "outputs": []
    }
  ]
}